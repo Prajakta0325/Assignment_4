{
 "cells": [
  {
   "cell_type": "code",
   "execution_count": null,
   "id": "902c88ef",
   "metadata": {},
   "outputs": [],
   "source": [
    "# Write a Python program to square the elements of a list using map() function."
   ]
  },
  {
   "cell_type": "code",
   "execution_count": 1,
   "id": "636a6820",
   "metadata": {},
   "outputs": [
    {
     "name": "stdout",
     "output_type": "stream",
     "text": [
      "4 5 2 9\n",
      "Sample List :  [4, 5, 2, 9]\n",
      "Square of Elements: [16, 25, 4, 81]\n"
     ]
    }
   ],
   "source": [
    "l=list(map(int,input().split()))\n",
    "print(\"Sample List : \",l)\n",
    "\n",
    "result= list(map(lambda x:x**2,l))\n",
    "print(\"Square of Elements:\",result)"
   ]
  },
  {
   "cell_type": "code",
   "execution_count": null,
   "id": "ca8bb22c",
   "metadata": {},
   "outputs": [],
   "source": []
  }
 ],
 "metadata": {
  "kernelspec": {
   "display_name": "Python 3 (ipykernel)",
   "language": "python",
   "name": "python3"
  },
  "language_info": {
   "codemirror_mode": {
    "name": "ipython",
    "version": 3
   },
   "file_extension": ".py",
   "mimetype": "text/x-python",
   "name": "python",
   "nbconvert_exporter": "python",
   "pygments_lexer": "ipython3",
   "version": "3.9.13"
  }
 },
 "nbformat": 4,
 "nbformat_minor": 5
}
