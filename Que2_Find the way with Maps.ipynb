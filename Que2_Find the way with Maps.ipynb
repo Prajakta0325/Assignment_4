{
 "cells": [
  {
   "cell_type": "code",
   "execution_count": null,
   "id": "25d22a5c",
   "metadata": {},
   "outputs": [],
   "source": [
    "#Write a Python program to triple all numbers of a given list of integers. Use Python map."
   ]
  },
  {
   "cell_type": "code",
   "execution_count": 1,
   "id": "6bd143fa",
   "metadata": {},
   "outputs": [
    {
     "name": "stdout",
     "output_type": "stream",
     "text": [
      "1 2 3 4 5 6 7\n",
      "Sample list : [1, 2, 3, 4, 5, 6, 7]\n",
      "Triple of list numbers : [3, 6, 9, 12, 15, 18, 21]\n"
     ]
    }
   ],
   "source": [
    "l=list(map(int,input().split()))\n",
    "print(\"Sample list :\",l)\n",
    "\n",
    "result =list(map(lambda x:x*3,l))\n",
    "print(\"Triple of list numbers :\",result)"
   ]
  },
  {
   "cell_type": "code",
   "execution_count": null,
   "id": "bf5184b6",
   "metadata": {},
   "outputs": [],
   "source": []
  }
 ],
 "metadata": {
  "kernelspec": {
   "display_name": "Python 3 (ipykernel)",
   "language": "python",
   "name": "python3"
  },
  "language_info": {
   "codemirror_mode": {
    "name": "ipython",
    "version": 3
   },
   "file_extension": ".py",
   "mimetype": "text/x-python",
   "name": "python",
   "nbconvert_exporter": "python",
   "pygments_lexer": "ipython3",
   "version": "3.9.13"
  }
 },
 "nbformat": 4,
 "nbformat_minor": 5
}
